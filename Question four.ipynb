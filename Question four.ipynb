{
 "cells": [
  {
   "cell_type": "markdown",
   "metadata": {},
   "source": [
    "QUESTION FOUR"
   ]
  },
  {
   "cell_type": "code",
   "execution_count": 8,
   "metadata": {},
   "outputs": [],
   "source": [
    "\n",
    "import numpy as np"
   ]
  },
  {
   "cell_type": "code",
   "execution_count": 9,
   "metadata": {},
   "outputs": [
    {
     "name": "stdout",
     "output_type": "stream",
     "text": [
      "[[1.  0.2 0.5]\n",
      " [0.2 1.  0.8]\n",
      " [0.5 0.8 1. ]]\n"
     ]
    }
   ],
   "source": [
    "\n",
    "# Given matrix\n",
    "matrix = np.array([[1, 0.2, 0.5],\n",
    "                   [0.2, 1, 0.8],\n",
    "                   [0.5, 0.8, 1]])\n",
    "print(matrix)"
   ]
  },
  {
   "cell_type": "code",
   "execution_count": 10,
   "metadata": {},
   "outputs": [
    {
     "name": "stdout",
     "output_type": "stream",
     "text": [
      "(a) Inverse matrix:\n",
      " [[ 1.56521739  0.86956522 -1.47826087]\n",
      " [ 0.86956522  3.26086957 -3.04347826]\n",
      " [-1.47826087 -3.04347826  4.17391304]]\n"
     ]
    }
   ],
   "source": [
    "# (a) Inversion matrix\n",
    "inverseMatrix = np.linalg.inv(matrix)\n",
    "print(\"(a) Inverse matrix:\\n\", inverseMatrix)"
   ]
  },
  {
   "cell_type": "code",
   "execution_count": 11,
   "metadata": {},
   "outputs": [
    {
     "name": "stdout",
     "output_type": "stream",
     "text": [
      "(b) Determinant of the matrix: 0.2299999999999999\n"
     ]
    }
   ],
   "source": [
    "# (b) Determinant of the matrix\n",
    "determinant = np.linalg.det(matrix)\n",
    "print(\"(b) Determinant of the matrix:\", determinant)"
   ]
  },
  {
   "cell_type": "code",
   "execution_count": 12,
   "metadata": {},
   "outputs": [
    {
     "name": "stdout",
     "output_type": "stream",
     "text": [
      "(c) Eigenvalues:\n",
      " [2.04100779 0.82188052 0.13711169]\n",
      "    Eigenvectors:\n",
      " [[-0.43721717 -0.85359707 -0.28321933]\n",
      " [-0.59931898  0.51133314 -0.61591816]\n",
      " [-0.67056536  0.09955128  0.73514055]]\n"
     ]
    }
   ],
   "source": [
    "# (c) Matrix decomposition /eigenvalue decomposition\n",
    "eigenvalues, eigenvectors = np.linalg.eig(matrix)\n",
    "print(\"(c) Eigenvalues:\\n\", eigenvalues)\n",
    "print(\"    Eigenvectors:\\n\", eigenvectors)"
   ]
  },
  {
   "cell_type": "code",
   "execution_count": 13,
   "metadata": {},
   "outputs": [
    {
     "name": "stdout",
     "output_type": "stream",
     "text": [
      "(d) Transformed matrix:\n",
      " [[2.  0.6 0.5]\n",
      " [0.4 3.  0.8]\n",
      " [1.  2.4 1. ]]\n"
     ]
    }
   ],
   "source": [
    "\n",
    "# (d) Transformation of the matrix\n",
    "transformationMatrix = np.array([[2, 0, 0],\n",
    "                                  [0, 3, 0],\n",
    "                                  [0, 0, 1]])\n",
    "transformedMatrix = matrix.dot(transformationMatrix)\n",
    "print(\"(d) Transformed matrix:\\n\", transformedMatrix)"
   ]
  }
 ],
 "metadata": {
  "kernelspec": {
   "display_name": "Python 3",
   "language": "python",
   "name": "python3"
  },
  "language_info": {
   "codemirror_mode": {
    "name": "ipython",
    "version": 3
   },
   "file_extension": ".py",
   "mimetype": "text/x-python",
   "name": "python",
   "nbconvert_exporter": "python",
   "pygments_lexer": "ipython3",
   "version": "3.12.0"
  }
 },
 "nbformat": 4,
 "nbformat_minor": 2
}
