{
 "cells": [
  {
   "cell_type": "markdown",
   "metadata": {},
   "source": [
    "QUESTION FIVE"
   ]
  },
  {
   "cell_type": "code",
   "execution_count": 13,
   "metadata": {},
   "outputs": [],
   "source": [
    "\n",
    "import numpy as np"
   ]
  },
  {
   "cell_type": "code",
   "execution_count": 14,
   "metadata": {},
   "outputs": [
    {
     "name": "stdout",
     "output_type": "stream",
     "text": [
      "[[  2   3  -1]\n",
      " [ -3   1   5]\n",
      " [  1   4 -11]]\n"
     ]
    }
   ],
   "source": [
    "\n",
    "#Equations\n",
    "#2x+3y−z=10\n",
    "#−3x+y+5z=18\n",
    "#x+4y−11z=30\n",
    "\n",
    "# Coefficients (values before or multiplying the unknown)\n",
    "coefficients = np.array([[2, 3, -1], [-3, 1, 5], [1, 4, -11]])\n",
    "print(coefficients)"
   ]
  },
  {
   "cell_type": "code",
   "execution_count": 15,
   "metadata": {},
   "outputs": [
    {
     "name": "stdout",
     "output_type": "stream",
     "text": [
      "[10 18 30]\n"
     ]
    }
   ],
   "source": [
    "# Constants\n",
    "constants = np.array([10, 18, 30])\n",
    "print(constants)"
   ]
  },
  {
   "cell_type": "code",
   "execution_count": 16,
   "metadata": {},
   "outputs": [
    {
     "name": "stdout",
     "output_type": "stream",
     "text": [
      "[-5.20300752  6.52631579 -0.82706767]\n"
     ]
    }
   ],
   "source": [
    "# Solving the equations\n",
    "Unknowns = np.linalg.solve(coefficients, constants)\n",
    "print(Unknowns)"
   ]
  },
  {
   "cell_type": "code",
   "execution_count": 17,
   "metadata": {},
   "outputs": [
    {
     "name": "stdout",
     "output_type": "stream",
     "text": [
      "Unknowns: [-5.20300752  6.52631579 -0.82706767]\n",
      "x = -5.2030075187969915\n",
      "y = 6.526315789473685\n",
      "z = -0.8270676691729323\n"
     ]
    }
   ],
   "source": [
    "\n",
    "# Solution gives values of x , y and z\n",
    "x, y, z = Unknowns\n",
    "\n",
    "print(\"Unknowns:\",Unknowns)\n",
    "print(\"x =\", x)\n",
    "print(\"y =\", y)\n",
    "print(\"z =\", z)"
   ]
  }
 ],
 "metadata": {
  "kernelspec": {
   "display_name": "Python 3",
   "language": "python",
   "name": "python3"
  },
  "language_info": {
   "codemirror_mode": {
    "name": "ipython",
    "version": 3
   },
   "file_extension": ".py",
   "mimetype": "text/x-python",
   "name": "python",
   "nbconvert_exporter": "python",
   "pygments_lexer": "ipython3",
   "version": "3.12.0"
  }
 },
 "nbformat": 4,
 "nbformat_minor": 2
}
